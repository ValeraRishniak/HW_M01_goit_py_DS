{
 "cells": [
  {
   "cell_type": "code",
   "execution_count": null,
   "id": "f81759a0-35a1-4d4c-853e-1ed4c14ddd31",
   "metadata": {},
   "outputs": [],
   "source": [
    "import numpy as np"
   ]
  },
  {
   "cell_type": "code",
   "execution_count": null,
   "id": "a97f7782-3509-4af0-86fc-b03dede21f4b",
   "metadata": {},
   "outputs": [],
   "source": [
    "# T1\n",
    "v = np.arange(1, 11)\n",
    "print(v)"
   ]
  },
  {
   "cell_type": "code",
   "execution_count": null,
   "id": "60a87ffe-1b5e-48c1-9af2-ba9f52f6f3d8",
   "metadata": {},
   "outputs": [],
   "source": [
    "# T2\n",
    "m = np.zeros((3, 3), dtype=int)\n",
    "print(m)"
   ]
  },
  {
   "cell_type": "code",
   "execution_count": null,
   "id": "8c5b22ec-cbd1-4251-9e57-978336ee6319",
   "metadata": {},
   "outputs": [],
   "source": [
    "# T3\n",
    "m = np.random.randint(1, 11, size=(5, 5), dtype=int)\n",
    "print(m)"
   ]
  },
  {
   "cell_type": "code",
   "execution_count": null,
   "id": "c157b148-753d-48e9-8f79-031f8844d72a",
   "metadata": {},
   "outputs": [],
   "source": [
    "# T4\n",
    "m = np.random.rand(4, 4)\n",
    "print(m)"
   ]
  },
  {
   "cell_type": "code",
   "execution_count": null,
   "id": "89a8b7a3-e88d-4ce1-a7bd-da51038df0dd",
   "metadata": {},
   "outputs": [],
   "source": [
    "# T5\n",
    "m1 = np.random.randint(1, 11, size=(1, 5), dtype=int)\n",
    "print(m1)\n",
    "m2 = np.random.randint(1, 11, size=(1, 5), dtype=int)\n",
    "print(m2)\n",
    "sum_m1_m2 = m1 + m2\n",
    "print(\"sum_m1_m2 = \", sum_m1_m2)\n",
    "sub_m1_m2 = m1 - m2\n",
    "print(\"sub_m1_m2 = \", sub_m1_m2)\n",
    "mult_m1_m2 = m1 * m2\n",
    "print(\"mult_m1_m2 = \", mult_m1_m2)"
   ]
  },
  {
   "cell_type": "code",
   "execution_count": null,
   "id": "a1803647-96ce-44d1-a551-425e60926f6e",
   "metadata": {},
   "outputs": [],
   "source": [
    "# T6\n",
    "m1 = np.random.randint(1, 21, size=(7), dtype=int)\n",
    "print(m1)\n",
    "m2 = np.random.randint(1, 21, size=(7), dtype=int)\n",
    "print(m2)\n",
    "scalar_product = np.dot(m1, m2)\n",
    "print(\"scalar_product = \", scalar_product)"
   ]
  },
  {
   "cell_type": "code",
   "execution_count": null,
   "id": "f254476c-ec68-467d-9ee2-6fdeda62a583",
   "metadata": {},
   "outputs": [],
   "source": [
    "# T7\n",
    "m1 = np.random.randint(1, 11, size=(2,2), dtype=int)\n",
    "print(m1)\n",
    "m2 = np.random.randint(1, 11, size=(2,3), dtype=int)\n",
    "print(m2)\n",
    "matrix_mult = np.dot(m1, m2)\n",
    "print(\"matrix_mult\", matrix_mult)"
   ]
  },
  {
   "cell_type": "code",
   "execution_count": null,
   "id": "b494d5fe-506e-44d5-b236-12481aec60ad",
   "metadata": {},
   "outputs": [],
   "source": [
    "# T8\n",
    "m1 = np.random.randint(1, 11, size=(3, 3), dtype=int)\n",
    "print(m1)\n",
    "inv_m1 = np.linalg.inv(m1)\n",
    "print(\"inv_m1 = \", inv_m1)"
   ]
  },
  {
   "cell_type": "code",
   "execution_count": null,
   "id": "2e554d3b-148f-475d-bb48-731d1d5562fd",
   "metadata": {},
   "outputs": [],
   "source": [
    "# T9\n",
    "m1 = np.random.rand(4, 4)\n",
    "print(m1)\n",
    "transpos_m1 = m1.T\n",
    "print(\"transpos_m1\", transpos_m1)"
   ]
  },
  {
   "cell_type": "code",
   "execution_count": null,
   "id": "5c963aa0-6a55-42ed-81ae-62454e19f89b",
   "metadata": {},
   "outputs": [],
   "source": [
    "# T10\n",
    "m1 = np.random.randint(1, 11, size=(3,4), dtype=int)\n",
    "print(\"m1=\", m1)\n",
    "v1 = np.random.randint(1, 11, size=(4), dtype=int)\n",
    "print(\"v1=\", v1)\n",
    "mul_m1_v1 = m1 * v1\n",
    "print(\"mul\", mul_m1_v1)\n",
    "dot_m1_v1 = np.dot(m1, v1)\n",
    "print(\"dot\", dot_m1_v1)"
   ]
  },
  {
   "cell_type": "code",
   "execution_count": null,
   "id": "3517f7e4-68c0-41a3-bfaf-fad4431932e3",
   "metadata": {},
   "outputs": [],
   "source": [
    "# T11\n",
    "m1 = np.random.rand(2,3)\n",
    "print(\"m1=\", m1)\n",
    "v1 = np.random.rand(3)\n",
    "print(\"v1=\", v1)\n",
    "mul_m1_v1 = m1 * v1\n",
    "print(\"mul\", mul_m1_v1)\n",
    "dot_m1_v1 = np.dot(m1, v1)\n",
    "print(\"dot\", dot_m1_v1)"
   ]
  },
  {
   "cell_type": "code",
   "execution_count": null,
   "id": "e9aa0d1d-ee74-486f-b845-5ab229990969",
   "metadata": {},
   "outputs": [],
   "source": [
    "# T12\n",
    "m1 = np.random.randint(1, 11, size=(2,2), dtype=int)\n",
    "print(\"m1=\", m1)\n",
    "m2 = np.random.randint(1, 11, size=(2,2), dtype=int)\n",
    "print(\"m2=\", m2)\n",
    "mul_m1_m2 = m1 * m2\n",
    "print(\"mul\", mul_m1_m2)\n",
    "multiply_m1_m2 = np.multiply(m1, m2)\n",
    "print(\"multiply\", multiply_m1_m2)"
   ]
  },
  {
   "cell_type": "code",
   "execution_count": null,
   "id": "7b0fff49-5d95-4625-8e65-da2b89480b5c",
   "metadata": {},
   "outputs": [],
   "source": [
    "# T13\n",
    "m1 = np.random.randint(1, 11, size=(2,2), dtype=int)\n",
    "print(\"m1=\", m1)\n",
    "m2 = np.random.randint(1, 11, size=(2,2), dtype=int)\n",
    "print(\"m2=\", m2)\n",
    "dot_m1_m2 = np.dot(m1, m2)\n",
    "print(\"dot\", dot_m1_m2)"
   ]
  },
  {
   "cell_type": "code",
   "execution_count": null,
   "id": "b7e694a1-f739-43aa-8fcb-010e5c9191cb",
   "metadata": {},
   "outputs": [],
   "source": [
    "# T14\n",
    "m1 = np.random.randint(1, 101, size=(5, 5), dtype=int)\n",
    "print(\"m1=\", m1)\n",
    "sum_m1 = np.sum(m1)\n",
    "print(\"sum\", sum_m1)"
   ]
  },
  {
   "cell_type": "code",
   "execution_count": null,
   "id": "02858b36-c981-4978-8ef2-729684854f65",
   "metadata": {},
   "outputs": [],
   "source": [
    "# T15\n",
    "m1 = np.random.randint(1, 11, size=(4, 4), dtype=int)\n",
    "print(\"m1=\", m1)\n",
    "m2 = np.random.randint(1, 11, size=(4, 4), dtype=int)\n",
    "print(\"m2=\", m2)\n",
    "diff_m1_m2 = m1 - m2\n",
    "print(\"diff\", diff_m1_m2)"
   ]
  },
  {
   "cell_type": "code",
   "execution_count": null,
   "id": "b517a98c-2bce-413a-8745-9d3701dec1c1",
   "metadata": {},
   "outputs": [],
   "source": [
    "# T16\n",
    "m1 = np.random.rand(3, 3)\n",
    "print(\"m1=\", m1)\n",
    "rows_sum = m1.sum(axis=1).reshape(-1, 1)\n",
    "print(\"row_sums=\", rows_sum)"
   ]
  },
  {
   "cell_type": "code",
   "execution_count": null,
   "id": "1637cf46-8647-49a1-879b-627fa6e4c17b",
   "metadata": {},
   "outputs": [],
   "source": [
    "# T17\n",
    "m1 = np.random.randint(1, 11, size=(3,4), dtype=int)\n",
    "print(\"m1=\", m1)\n",
    "exp_m = np.power(m1,2)\n",
    "print(\"exp_m=\", exp_m)"
   ]
  },
  {
   "cell_type": "code",
   "execution_count": null,
   "id": "832bbb35-722f-4603-af68-24aeeb2f9792",
   "metadata": {},
   "outputs": [],
   "source": [
    "# T18\n",
    "v1 = np.random.randint(1, 51, size=(4), dtype=int)\n",
    "print(\"v1=\", v1)\n",
    "sqrt_v1 = np.sqrt(v1)\n",
    "print(\"sqrt_v1=\", sqrt_v1)"
   ]
  }
 ],
 "metadata": {
  "kernelspec": {
   "display_name": "Python 3 (ipykernel)",
   "language": "python",
   "name": "python3"
  },
  "language_info": {
   "codemirror_mode": {
    "name": "ipython",
    "version": 3
   },
   "file_extension": ".py",
   "mimetype": "text/x-python",
   "name": "python",
   "nbconvert_exporter": "python",
   "pygments_lexer": "ipython3",
   "version": "3.11.6"
  }
 },
 "nbformat": 4,
 "nbformat_minor": 5
}
